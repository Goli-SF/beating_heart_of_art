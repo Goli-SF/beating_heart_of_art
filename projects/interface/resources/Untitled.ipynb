{
 "cells": [
  {
   "cell_type": "code",
   "execution_count": 1,
   "id": "ff3472b4",
   "metadata": {},
   "outputs": [],
   "source": [
    "import pickle\n",
    "import pandas as pd"
   ]
  },
  {
   "cell_type": "code",
   "execution_count": 2,
   "id": "85cda643",
   "metadata": {},
   "outputs": [],
   "source": [
    "df=pd.read_pickle('ultimate_database_df.pkl')"
   ]
  },
  {
   "cell_type": "code",
   "execution_count": 3,
   "id": "b33f36f3",
   "metadata": {},
   "outputs": [
    {
     "data": {
      "text/plain": [
       "(94239, 9)"
      ]
     },
     "execution_count": 3,
     "metadata": {},
     "output_type": "execute_result"
    }
   ],
   "source": [
    "df.shape"
   ]
  },
  {
   "cell_type": "code",
   "execution_count": 4,
   "id": "900ec47c",
   "metadata": {},
   "outputs": [
    {
     "data": {
      "text/html": [
       "<div>\n",
       "<style scoped>\n",
       "    .dataframe tbody tr th:only-of-type {\n",
       "        vertical-align: middle;\n",
       "    }\n",
       "\n",
       "    .dataframe tbody tr th {\n",
       "        vertical-align: top;\n",
       "    }\n",
       "\n",
       "    .dataframe thead th {\n",
       "        text-align: right;\n",
       "    }\n",
       "</style>\n",
       "<table border=\"1\" class=\"dataframe\">\n",
       "  <thead>\n",
       "    <tr style=\"text-align: right;\">\n",
       "      <th></th>\n",
       "      <th>id</th>\n",
       "      <th>image_name</th>\n",
       "      <th>URL</th>\n",
       "      <th>title</th>\n",
       "      <th>medium</th>\n",
       "      <th>artist</th>\n",
       "      <th>date</th>\n",
       "      <th>source_URL</th>\n",
       "      <th>source</th>\n",
       "    </tr>\n",
       "  </thead>\n",
       "  <tbody>\n",
       "    <tr>\n",
       "      <th>0</th>\n",
       "      <td>MTRP-001a2270-0cb3-4c51-8b78-ee6bc58a8674</td>\n",
       "      <td>MTRP-001a2270-0cb3-4c51-8b78-ee6bc58a8674.jpg</td>\n",
       "      <td>https://images.metmuseum.org/CRDImages/ad/orig...</td>\n",
       "      <td>Plaque Portrait of Benjamin Franklin</td>\n",
       "      <td>Ivory</td>\n",
       "      <td>Louis Benjamin Huber Defeuille</td>\n",
       "      <td>1800–1883</td>\n",
       "      <td>https://images.metmuseum.org/CRDImages/ad/orig...</td>\n",
       "      <td>Metropolitan Museum of Art</td>\n",
       "    </tr>\n",
       "    <tr>\n",
       "      <th>1</th>\n",
       "      <td>MTRP-90214e4d-2a2f-4c15-9b62-b8ffae6c531b</td>\n",
       "      <td>MTRP-90214e4d-2a2f-4c15-9b62-b8ffae6c531b.jpg</td>\n",
       "      <td>https://images.metmuseum.org/CRDImages/ad/orig...</td>\n",
       "      <td>Plaque Portrait of Benjamin Franklin</td>\n",
       "      <td>Probably porcelain</td>\n",
       "      <td>None</td>\n",
       "      <td>1776–1883</td>\n",
       "      <td>https://images.metmuseum.org/CRDImages/ad/orig...</td>\n",
       "      <td>Metropolitan Museum of Art</td>\n",
       "    </tr>\n",
       "    <tr>\n",
       "      <th>2</th>\n",
       "      <td>MTRP-95ff01d8-db74-4115-9cba-0d9a32ad4803</td>\n",
       "      <td>MTRP-95ff01d8-db74-4115-9cba-0d9a32ad4803.jpg</td>\n",
       "      <td>https://images.metmuseum.org/CRDImages/ad/orig...</td>\n",
       "      <td>Plaque Portrait of Benjamin Franklin</td>\n",
       "      <td>Ivory</td>\n",
       "      <td>Jean-Baptiste Nini</td>\n",
       "      <td>1776–1883</td>\n",
       "      <td>https://images.metmuseum.org/CRDImages/ad/orig...</td>\n",
       "      <td>Metropolitan Museum of Art</td>\n",
       "    </tr>\n",
       "    <tr>\n",
       "      <th>3</th>\n",
       "      <td>MTRP-078c63e1-5bca-47cc-92f9-cc9f06133993</td>\n",
       "      <td>MTRP-078c63e1-5bca-47cc-92f9-cc9f06133993.jpg</td>\n",
       "      <td>https://images.metmuseum.org/CRDImages/ad/orig...</td>\n",
       "      <td>Portrait of Benjamin Franklin</td>\n",
       "      <td>Panel</td>\n",
       "      <td>None</td>\n",
       "      <td>1776–1883</td>\n",
       "      <td>https://images.metmuseum.org/CRDImages/ad/orig...</td>\n",
       "      <td>Metropolitan Museum of Art</td>\n",
       "    </tr>\n",
       "    <tr>\n",
       "      <th>4</th>\n",
       "      <td>MTRP-8b99e840-9409-4fb1-bb42-47c0215da79b</td>\n",
       "      <td>MTRP-8b99e840-9409-4fb1-bb42-47c0215da79b.jpg</td>\n",
       "      <td>https://images.metmuseum.org/CRDImages/ad/orig...</td>\n",
       "      <td>Plaque Portrait of Benjamin Franklin</td>\n",
       "      <td>Ivory</td>\n",
       "      <td>None</td>\n",
       "      <td>1776–1883</td>\n",
       "      <td>https://images.metmuseum.org/CRDImages/ad/orig...</td>\n",
       "      <td>Metropolitan Museum of Art</td>\n",
       "    </tr>\n",
       "  </tbody>\n",
       "</table>\n",
       "</div>"
      ],
      "text/plain": [
       "                                          id  \\\n",
       "0  MTRP-001a2270-0cb3-4c51-8b78-ee6bc58a8674   \n",
       "1  MTRP-90214e4d-2a2f-4c15-9b62-b8ffae6c531b   \n",
       "2  MTRP-95ff01d8-db74-4115-9cba-0d9a32ad4803   \n",
       "3  MTRP-078c63e1-5bca-47cc-92f9-cc9f06133993   \n",
       "4  MTRP-8b99e840-9409-4fb1-bb42-47c0215da79b   \n",
       "\n",
       "                                      image_name  \\\n",
       "0  MTRP-001a2270-0cb3-4c51-8b78-ee6bc58a8674.jpg   \n",
       "1  MTRP-90214e4d-2a2f-4c15-9b62-b8ffae6c531b.jpg   \n",
       "2  MTRP-95ff01d8-db74-4115-9cba-0d9a32ad4803.jpg   \n",
       "3  MTRP-078c63e1-5bca-47cc-92f9-cc9f06133993.jpg   \n",
       "4  MTRP-8b99e840-9409-4fb1-bb42-47c0215da79b.jpg   \n",
       "\n",
       "                                                 URL  \\\n",
       "0  https://images.metmuseum.org/CRDImages/ad/orig...   \n",
       "1  https://images.metmuseum.org/CRDImages/ad/orig...   \n",
       "2  https://images.metmuseum.org/CRDImages/ad/orig...   \n",
       "3  https://images.metmuseum.org/CRDImages/ad/orig...   \n",
       "4  https://images.metmuseum.org/CRDImages/ad/orig...   \n",
       "\n",
       "                                  title              medium  \\\n",
       "0  Plaque Portrait of Benjamin Franklin               Ivory   \n",
       "1  Plaque Portrait of Benjamin Franklin  Probably porcelain   \n",
       "2  Plaque Portrait of Benjamin Franklin               Ivory   \n",
       "3         Portrait of Benjamin Franklin               Panel   \n",
       "4  Plaque Portrait of Benjamin Franklin               Ivory   \n",
       "\n",
       "                           artist       date  \\\n",
       "0  Louis Benjamin Huber Defeuille  1800–1883   \n",
       "1                            None  1776–1883   \n",
       "2              Jean-Baptiste Nini  1776–1883   \n",
       "3                            None  1776–1883   \n",
       "4                            None  1776–1883   \n",
       "\n",
       "                                          source_URL  \\\n",
       "0  https://images.metmuseum.org/CRDImages/ad/orig...   \n",
       "1  https://images.metmuseum.org/CRDImages/ad/orig...   \n",
       "2  https://images.metmuseum.org/CRDImages/ad/orig...   \n",
       "3  https://images.metmuseum.org/CRDImages/ad/orig...   \n",
       "4  https://images.metmuseum.org/CRDImages/ad/orig...   \n",
       "\n",
       "                       source  \n",
       "0  Metropolitan Museum of Art  \n",
       "1  Metropolitan Museum of Art  \n",
       "2  Metropolitan Museum of Art  \n",
       "3  Metropolitan Museum of Art  \n",
       "4  Metropolitan Museum of Art  "
      ]
     },
     "execution_count": 4,
     "metadata": {},
     "output_type": "execute_result"
    }
   ],
   "source": [
    "df.head()"
   ]
  },
  {
   "cell_type": "code",
   "execution_count": null,
   "id": "f8f7efe8",
   "metadata": {},
   "outputs": [],
   "source": []
  }
 ],
 "metadata": {
  "kernelspec": {
   "display_name": "Python 3 (ipykernel)",
   "language": "python",
   "name": "python3"
  },
  "language_info": {
   "codemirror_mode": {
    "name": "ipython",
    "version": 3
   },
   "file_extension": ".py",
   "mimetype": "text/x-python",
   "name": "python",
   "nbconvert_exporter": "python",
   "pygments_lexer": "ipython3",
   "version": "3.10.6"
  },
  "toc": {
   "base_numbering": 1,
   "nav_menu": {},
   "number_sections": true,
   "sideBar": true,
   "skip_h1_title": false,
   "title_cell": "Table of Contents",
   "title_sidebar": "Contents",
   "toc_cell": false,
   "toc_position": {},
   "toc_section_display": true,
   "toc_window_display": false
  }
 },
 "nbformat": 4,
 "nbformat_minor": 5
}
