{
 "cells": [
  {
   "cell_type": "code",
   "execution_count": 42,
   "id": "872f7131",
   "metadata": {},
   "outputs": [],
   "source": [
    "import requests\n",
    "from PIL import Image\n",
    "import pandas as pd\n",
    "import os\n",
    "from io import BytesIO\n",
    "import numpy as np\n",
    "from ratelimit import limits, sleep_and_retry"
   ]
  },
  {
   "cell_type": "code",
   "execution_count": 53,
   "id": "40c46383",
   "metadata": {},
   "outputs": [],
   "source": [
    "moma_data = pd.read_json('moma_artworks.json')"
   ]
  },
  {
   "cell_type": "code",
   "execution_count": 65,
   "id": "85978331",
   "metadata": {},
   "outputs": [],
   "source": [
    "moma_df=pd.DataFrame(moma_data)"
   ]
  },
  {
   "cell_type": "code",
   "execution_count": 66,
   "id": "026d4aa0",
   "metadata": {},
   "outputs": [
    {
     "data": {
      "text/plain": [
       "(140848, 28)"
      ]
     },
     "execution_count": 66,
     "metadata": {},
     "output_type": "execute_result"
    }
   ],
   "source": [
    "moma_df.shape"
   ]
  },
  {
   "cell_type": "code",
   "execution_count": 67,
   "id": "937e9c79",
   "metadata": {
    "scrolled": true
   },
   "outputs": [
    {
     "data": {
      "text/plain": [
       "Index(['Title', 'Artist', 'ConstituentID', 'ArtistBio', 'Nationality',\n",
       "       'BeginDate', 'EndDate', 'Gender', 'Date', 'Medium', 'Dimensions',\n",
       "       'CreditLine', 'AccessionNumber', 'Classification', 'Department',\n",
       "       'DateAcquired', 'Cataloged', 'ObjectID', 'URL', 'ThumbnailURL',\n",
       "       'Height (cm)', 'Width (cm)', 'Depth (cm)', 'Weight (kg)',\n",
       "       'Diameter (cm)', 'Length (cm)', 'Circumference (cm)',\n",
       "       'Duration (sec.)'],\n",
       "      dtype='object')"
      ]
     },
     "execution_count": 67,
     "metadata": {},
     "output_type": "execute_result"
    }
   ],
   "source": [
    "moma_df.columns"
   ]
  },
  {
   "cell_type": "code",
   "execution_count": 75,
   "id": "bda7f7ba",
   "metadata": {},
   "outputs": [
    {
     "data": {
      "text/html": [
       "<div>\n",
       "<style scoped>\n",
       "    .dataframe tbody tr th:only-of-type {\n",
       "        vertical-align: middle;\n",
       "    }\n",
       "\n",
       "    .dataframe tbody tr th {\n",
       "        vertical-align: top;\n",
       "    }\n",
       "\n",
       "    .dataframe thead th {\n",
       "        text-align: right;\n",
       "    }\n",
       "</style>\n",
       "<table border=\"1\" class=\"dataframe\">\n",
       "  <thead>\n",
       "    <tr style=\"text-align: right;\">\n",
       "      <th></th>\n",
       "      <th>Title</th>\n",
       "      <th>Artist</th>\n",
       "      <th>ConstituentID</th>\n",
       "      <th>ArtistBio</th>\n",
       "      <th>Nationality</th>\n",
       "      <th>BeginDate</th>\n",
       "      <th>EndDate</th>\n",
       "      <th>Gender</th>\n",
       "      <th>Date</th>\n",
       "      <th>Medium</th>\n",
       "      <th>...</th>\n",
       "      <th>URL</th>\n",
       "      <th>ThumbnailURL</th>\n",
       "      <th>Height (cm)</th>\n",
       "      <th>Width (cm)</th>\n",
       "      <th>Depth (cm)</th>\n",
       "      <th>Weight (kg)</th>\n",
       "      <th>Diameter (cm)</th>\n",
       "      <th>Length (cm)</th>\n",
       "      <th>Circumference (cm)</th>\n",
       "      <th>Duration (sec.)</th>\n",
       "    </tr>\n",
       "  </thead>\n",
       "  <tbody>\n",
       "    <tr>\n",
       "      <th>0</th>\n",
       "      <td>Ferdinandsbrücke Project, Vienna, Austria (Ele...</td>\n",
       "      <td>[Otto Wagner]</td>\n",
       "      <td>[6210]</td>\n",
       "      <td>[Austrian, 1841–1918]</td>\n",
       "      <td>[Austrian]</td>\n",
       "      <td>[1841]</td>\n",
       "      <td>[1918]</td>\n",
       "      <td>[Male]</td>\n",
       "      <td>1896</td>\n",
       "      <td>Ink and cut-and-pasted painted pages on paper</td>\n",
       "      <td>...</td>\n",
       "      <td>http://www.moma.org/collection/works/2</td>\n",
       "      <td>http://www.moma.org/media/W1siZiIsIjUyNzc3MCJd...</td>\n",
       "      <td>48.6000</td>\n",
       "      <td>168.9000</td>\n",
       "      <td>NaN</td>\n",
       "      <td>NaN</td>\n",
       "      <td>NaN</td>\n",
       "      <td>NaN</td>\n",
       "      <td>NaN</td>\n",
       "      <td>NaN</td>\n",
       "    </tr>\n",
       "    <tr>\n",
       "      <th>1</th>\n",
       "      <td>City of Music, National Superior Conservatory ...</td>\n",
       "      <td>[Christian de Portzamparc]</td>\n",
       "      <td>[7470]</td>\n",
       "      <td>[French, born 1944]</td>\n",
       "      <td>[French]</td>\n",
       "      <td>[1944]</td>\n",
       "      <td>[0]</td>\n",
       "      <td>[Male]</td>\n",
       "      <td>1987</td>\n",
       "      <td>Paint and colored pencil on print</td>\n",
       "      <td>...</td>\n",
       "      <td>http://www.moma.org/collection/works/3</td>\n",
       "      <td>http://www.moma.org/media/W1siZiIsIjUyNzM3NCJd...</td>\n",
       "      <td>40.6401</td>\n",
       "      <td>29.8451</td>\n",
       "      <td>NaN</td>\n",
       "      <td>NaN</td>\n",
       "      <td>NaN</td>\n",
       "      <td>NaN</td>\n",
       "      <td>NaN</td>\n",
       "      <td>NaN</td>\n",
       "    </tr>\n",
       "    <tr>\n",
       "      <th>2</th>\n",
       "      <td>Villa near Vienna Project, Outside Vienna, Aus...</td>\n",
       "      <td>[Emil Hoppe]</td>\n",
       "      <td>[7605]</td>\n",
       "      <td>[Austrian, 1876–1957]</td>\n",
       "      <td>[Austrian]</td>\n",
       "      <td>[1876]</td>\n",
       "      <td>[1957]</td>\n",
       "      <td>[Male]</td>\n",
       "      <td>1903</td>\n",
       "      <td>Graphite, pen, color pencil, ink, and gouache ...</td>\n",
       "      <td>...</td>\n",
       "      <td>http://www.moma.org/collection/works/4</td>\n",
       "      <td>http://www.moma.org/media/W1siZiIsIjUyNzM3NSJd...</td>\n",
       "      <td>34.3000</td>\n",
       "      <td>31.8000</td>\n",
       "      <td>NaN</td>\n",
       "      <td>NaN</td>\n",
       "      <td>NaN</td>\n",
       "      <td>NaN</td>\n",
       "      <td>NaN</td>\n",
       "      <td>NaN</td>\n",
       "    </tr>\n",
       "    <tr>\n",
       "      <th>3</th>\n",
       "      <td>The Manhattan Transcripts Project, New York, N...</td>\n",
       "      <td>[Bernard Tschumi]</td>\n",
       "      <td>[7056]</td>\n",
       "      <td>[French and Swiss, born Switzerland 1944]</td>\n",
       "      <td>[]</td>\n",
       "      <td>[1944]</td>\n",
       "      <td>[0]</td>\n",
       "      <td>[Male]</td>\n",
       "      <td>1980</td>\n",
       "      <td>Photographic reproduction with colored synthet...</td>\n",
       "      <td>...</td>\n",
       "      <td>http://www.moma.org/collection/works/5</td>\n",
       "      <td>http://www.moma.org/media/W1siZiIsIjUyNzQ3NCJd...</td>\n",
       "      <td>50.8000</td>\n",
       "      <td>50.8000</td>\n",
       "      <td>NaN</td>\n",
       "      <td>NaN</td>\n",
       "      <td>NaN</td>\n",
       "      <td>NaN</td>\n",
       "      <td>NaN</td>\n",
       "      <td>NaN</td>\n",
       "    </tr>\n",
       "    <tr>\n",
       "      <th>4</th>\n",
       "      <td>Villa, project, outside Vienna, Austria, Exter...</td>\n",
       "      <td>[Emil Hoppe]</td>\n",
       "      <td>[7605]</td>\n",
       "      <td>[Austrian, 1876–1957]</td>\n",
       "      <td>[Austrian]</td>\n",
       "      <td>[1876]</td>\n",
       "      <td>[1957]</td>\n",
       "      <td>[Male]</td>\n",
       "      <td>1903</td>\n",
       "      <td>Graphite, color pencil, ink, and gouache on tr...</td>\n",
       "      <td>...</td>\n",
       "      <td>http://www.moma.org/collection/works/6</td>\n",
       "      <td>http://www.moma.org/media/W1siZiIsIjUyNzQ3NSJd...</td>\n",
       "      <td>38.4000</td>\n",
       "      <td>19.1000</td>\n",
       "      <td>NaN</td>\n",
       "      <td>NaN</td>\n",
       "      <td>NaN</td>\n",
       "      <td>NaN</td>\n",
       "      <td>NaN</td>\n",
       "      <td>NaN</td>\n",
       "    </tr>\n",
       "  </tbody>\n",
       "</table>\n",
       "<p>5 rows × 28 columns</p>\n",
       "</div>"
      ],
      "text/plain": [
       "                                               Title  \\\n",
       "0  Ferdinandsbrücke Project, Vienna, Austria (Ele...   \n",
       "1  City of Music, National Superior Conservatory ...   \n",
       "2  Villa near Vienna Project, Outside Vienna, Aus...   \n",
       "3  The Manhattan Transcripts Project, New York, N...   \n",
       "4  Villa, project, outside Vienna, Austria, Exter...   \n",
       "\n",
       "                       Artist ConstituentID  \\\n",
       "0               [Otto Wagner]        [6210]   \n",
       "1  [Christian de Portzamparc]        [7470]   \n",
       "2                [Emil Hoppe]        [7605]   \n",
       "3           [Bernard Tschumi]        [7056]   \n",
       "4                [Emil Hoppe]        [7605]   \n",
       "\n",
       "                                   ArtistBio Nationality BeginDate EndDate  \\\n",
       "0                      [Austrian, 1841–1918]  [Austrian]    [1841]  [1918]   \n",
       "1                        [French, born 1944]    [French]    [1944]     [0]   \n",
       "2                      [Austrian, 1876–1957]  [Austrian]    [1876]  [1957]   \n",
       "3  [French and Swiss, born Switzerland 1944]          []    [1944]     [0]   \n",
       "4                      [Austrian, 1876–1957]  [Austrian]    [1876]  [1957]   \n",
       "\n",
       "   Gender  Date                                             Medium  ...  \\\n",
       "0  [Male]  1896      Ink and cut-and-pasted painted pages on paper  ...   \n",
       "1  [Male]  1987                  Paint and colored pencil on print  ...   \n",
       "2  [Male]  1903  Graphite, pen, color pencil, ink, and gouache ...  ...   \n",
       "3  [Male]  1980  Photographic reproduction with colored synthet...  ...   \n",
       "4  [Male]  1903  Graphite, color pencil, ink, and gouache on tr...  ...   \n",
       "\n",
       "                                      URL  \\\n",
       "0  http://www.moma.org/collection/works/2   \n",
       "1  http://www.moma.org/collection/works/3   \n",
       "2  http://www.moma.org/collection/works/4   \n",
       "3  http://www.moma.org/collection/works/5   \n",
       "4  http://www.moma.org/collection/works/6   \n",
       "\n",
       "                                        ThumbnailURL Height (cm) Width (cm)  \\\n",
       "0  http://www.moma.org/media/W1siZiIsIjUyNzc3MCJd...     48.6000   168.9000   \n",
       "1  http://www.moma.org/media/W1siZiIsIjUyNzM3NCJd...     40.6401    29.8451   \n",
       "2  http://www.moma.org/media/W1siZiIsIjUyNzM3NSJd...     34.3000    31.8000   \n",
       "3  http://www.moma.org/media/W1siZiIsIjUyNzQ3NCJd...     50.8000    50.8000   \n",
       "4  http://www.moma.org/media/W1siZiIsIjUyNzQ3NSJd...     38.4000    19.1000   \n",
       "\n",
       "  Depth (cm) Weight (kg) Diameter (cm)  Length (cm) Circumference (cm)  \\\n",
       "0        NaN         NaN           NaN          NaN                NaN   \n",
       "1        NaN         NaN           NaN          NaN                NaN   \n",
       "2        NaN         NaN           NaN          NaN                NaN   \n",
       "3        NaN         NaN           NaN          NaN                NaN   \n",
       "4        NaN         NaN           NaN          NaN                NaN   \n",
       "\n",
       "  Duration (sec.)  \n",
       "0             NaN  \n",
       "1             NaN  \n",
       "2             NaN  \n",
       "3             NaN  \n",
       "4             NaN  \n",
       "\n",
       "[5 rows x 28 columns]"
      ]
     },
     "execution_count": 75,
     "metadata": {},
     "output_type": "execute_result"
    }
   ],
   "source": [
    "moma_df.head()"
   ]
  },
  {
   "cell_type": "code",
   "execution_count": 86,
   "id": "4ca57c8a",
   "metadata": {},
   "outputs": [
    {
     "data": {
      "text/plain": [
       "(140848, 1)"
      ]
     },
     "execution_count": 86,
     "metadata": {},
     "output_type": "execute_result"
    }
   ],
   "source": [
    "moma_df[['Medium']].shape"
   ]
  },
  {
   "cell_type": "code",
   "execution_count": 112,
   "id": "03d0b677",
   "metadata": {},
   "outputs": [],
   "source": [
    "isnull_var= pd.isnull(moma_df_update['Medium'])"
   ]
  },
  {
   "cell_type": "code",
   "execution_count": 97,
   "id": "6b064c8b",
   "metadata": {},
   "outputs": [],
   "source": [
    "moma_df_update=moma_df[['ObjectID', 'Title', 'Artist', 'Date', 'Medium', 'URL', 'ThumbnailURL']]\n",
    "\n",
    "moma_df_update=moma_df_update[moma_df_update['Medium']!= None]\n"
   ]
  },
  {
   "cell_type": "code",
   "execution_count": 98,
   "id": "f9119a3f",
   "metadata": {},
   "outputs": [
    {
     "data": {
      "text/plain": [
       "(140848, 7)"
      ]
     },
     "execution_count": 98,
     "metadata": {},
     "output_type": "execute_result"
    }
   ],
   "source": [
    "moma_df_update.shape"
   ]
  },
  {
   "cell_type": "code",
   "execution_count": 80,
   "id": "ce020dff",
   "metadata": {},
   "outputs": [
    {
     "ename": "ValueError",
     "evalue": "Cannot mask with non-boolean array containing NA / NaN values",
     "output_type": "error",
     "traceback": [
      "\u001b[0;31m---------------------------------------------------------------------------\u001b[0m",
      "\u001b[0;31mValueError\u001b[0m                                Traceback (most recent call last)",
      "Cell \u001b[0;32mIn[80], line 1\u001b[0m\n\u001b[0;32m----> 1\u001b[0m \u001b[43mmoma_df\u001b[49m\u001b[43m[\u001b[49m\u001b[43mmoma_df\u001b[49m\u001b[43m[\u001b[49m\u001b[38;5;124;43m'\u001b[39;49m\u001b[38;5;124;43mMedium\u001b[39;49m\u001b[38;5;124;43m'\u001b[39;49m\u001b[43m]\u001b[49m\u001b[38;5;241;43m.\u001b[39;49m\u001b[43mstr\u001b[49m\u001b[38;5;241;43m.\u001b[39;49m\u001b[43mcontains\u001b[49m\u001b[43m(\u001b[49m\u001b[38;5;124;43m'\u001b[39;49m\u001b[38;5;124;43mpaint\u001b[39;49m\u001b[38;5;124;43m'\u001b[39;49m\u001b[43m)\u001b[49m\u001b[43m]\u001b[49m\n",
      "File \u001b[0;32m~/.pyenv/versions/3.10.6/envs/beating_heart_of_art/lib/python3.10/site-packages/pandas/core/frame.py:3797\u001b[0m, in \u001b[0;36mDataFrame.__getitem__\u001b[0;34m(self, key)\u001b[0m\n\u001b[1;32m   3794\u001b[0m     \u001b[38;5;28;01mreturn\u001b[39;00m \u001b[38;5;28mself\u001b[39m\u001b[38;5;241m.\u001b[39mwhere(key)\n\u001b[1;32m   3796\u001b[0m \u001b[38;5;66;03m# Do we have a (boolean) 1d indexer?\u001b[39;00m\n\u001b[0;32m-> 3797\u001b[0m \u001b[38;5;28;01mif\u001b[39;00m \u001b[43mcom\u001b[49m\u001b[38;5;241;43m.\u001b[39;49m\u001b[43mis_bool_indexer\u001b[49m\u001b[43m(\u001b[49m\u001b[43mkey\u001b[49m\u001b[43m)\u001b[49m:\n\u001b[1;32m   3798\u001b[0m     \u001b[38;5;28;01mreturn\u001b[39;00m \u001b[38;5;28mself\u001b[39m\u001b[38;5;241m.\u001b[39m_getitem_bool_array(key)\n\u001b[1;32m   3800\u001b[0m \u001b[38;5;66;03m# We are left with two options: a single key, and a collection of keys,\u001b[39;00m\n\u001b[1;32m   3801\u001b[0m \u001b[38;5;66;03m# We interpret tuples as collections only for non-MultiIndex\u001b[39;00m\n",
      "File \u001b[0;32m~/.pyenv/versions/3.10.6/envs/beating_heart_of_art/lib/python3.10/site-packages/pandas/core/common.py:135\u001b[0m, in \u001b[0;36mis_bool_indexer\u001b[0;34m(key)\u001b[0m\n\u001b[1;32m    131\u001b[0m     na_msg \u001b[38;5;241m=\u001b[39m \u001b[38;5;124m\"\u001b[39m\u001b[38;5;124mCannot mask with non-boolean array containing NA / NaN values\u001b[39m\u001b[38;5;124m\"\u001b[39m\n\u001b[1;32m    132\u001b[0m     \u001b[38;5;28;01mif\u001b[39;00m lib\u001b[38;5;241m.\u001b[39minfer_dtype(key_array) \u001b[38;5;241m==\u001b[39m \u001b[38;5;124m\"\u001b[39m\u001b[38;5;124mboolean\u001b[39m\u001b[38;5;124m\"\u001b[39m \u001b[38;5;129;01mand\u001b[39;00m isna(key_array)\u001b[38;5;241m.\u001b[39many():\n\u001b[1;32m    133\u001b[0m         \u001b[38;5;66;03m# Don't raise on e.g. [\"A\", \"B\", np.nan], see\u001b[39;00m\n\u001b[1;32m    134\u001b[0m         \u001b[38;5;66;03m#  test_loc_getitem_list_of_labels_categoricalindex_with_na\u001b[39;00m\n\u001b[0;32m--> 135\u001b[0m         \u001b[38;5;28;01mraise\u001b[39;00m \u001b[38;5;167;01mValueError\u001b[39;00m(na_msg)\n\u001b[1;32m    136\u001b[0m     \u001b[38;5;28;01mreturn\u001b[39;00m \u001b[38;5;28;01mFalse\u001b[39;00m\n\u001b[1;32m    137\u001b[0m \u001b[38;5;28;01mreturn\u001b[39;00m \u001b[38;5;28;01mTrue\u001b[39;00m\n",
      "\u001b[0;31mValueError\u001b[0m: Cannot mask with non-boolean array containing NA / NaN values"
     ]
    }
   ],
   "source": [
    "moma_df_update[moma_df_update['Medium'].str.contains('paint')]"
   ]
  },
  {
   "cell_type": "code",
   "execution_count": null,
   "id": "4bc25b0c",
   "metadata": {},
   "outputs": [],
   "source": []
  },
  {
   "cell_type": "code",
   "execution_count": null,
   "id": "f119e4af",
   "metadata": {},
   "outputs": [],
   "source": []
  },
  {
   "cell_type": "code",
   "execution_count": null,
   "id": "d637dd23",
   "metadata": {},
   "outputs": [],
   "source": [
    "CALLS = 79\n",
    "RATE_LIMIT = 1\n",
    "\n",
    "@sleep_and_retry\n",
    "@limits(calls=CALLS, period=RATE_LIMIT)\n",
    "def imagelink_collector(df):\n",
    "    \"\"\"\n",
    "    adds the 'imageURL' column to the input dataframe.\n",
    "    \"\"\"\n",
    "\n",
    "    df['imageURL'] = ''\n",
    "    for index, row in df.iterrows():\n",
    "\n",
    "        result = requests.get(f\"https://collectionapi.metmuseum.org/public/collection/v1/objects/{row['objectID']}\").json()\n",
    "\n",
    "        if 'primaryImage' in result and result['primaryImage']:\n",
    "            df.loc[index, 'imageURL'] = result['primaryImage']\n",
    "\n",
    "        if index%50 == 0:\n",
    "            print(f\"processing row {index}\")\n",
    "    #dropnas\n",
    "    df['imageURL'].replace('', np.nan, inplace=True)\n",
    "    df = df[df['imageURL'].notna()]\n",
    "\n",
    "    return df"
   ]
  },
  {
   "cell_type": "code",
   "execution_count": null,
   "id": "67c7fb71",
   "metadata": {},
   "outputs": [],
   "source": [
    "def imagelink_csv_maker(df):\n",
    "    \"\"\"\n",
    "    takes a dataframe that includes the imageURL-column and saves it as a csv-file on the hard drive.\n",
    "    \"\"\"\n",
    "    df.to_csv('image_links.csv')"
   ]
  },
  {
   "cell_type": "code",
   "execution_count": null,
   "id": "56ec5338",
   "metadata": {},
   "outputs": [],
   "source": [
    "def image_preprocessor(image):\n",
    "    \"\"\"\n",
    "    takes an image and changes its size to 224x224 pixels for feeding it to the model.\n",
    "    \"\"\"\n",
    "    resized_image = image.resize((224,224))\n",
    "    return resized_image"
   ]
  },
  {
   "cell_type": "code",
   "execution_count": null,
   "id": "f3433b26",
   "metadata": {},
   "outputs": [],
   "source": [
    "@sleep_and_retry\n",
    "@limits(calls=CALLS, period=RATE_LIMIT)\n",
    "def image_downloader(input_path, output_path):\n",
    "    \"\"\"\n",
    "    takes the path to a csv-file and downloads the images from the URLs provided in its imageURL-column.\n",
    "    Then saves the downloaded images to the output path.\n",
    "    \"\"\"\n",
    "    df= pd.read_csv(input_path)\n",
    "    for index, row in df[['objectID', 'imageURL']].iterrows():\n",
    "        id= row['objectID']\n",
    "        url= row['imageURL']\n",
    "\n",
    "        response = requests.get(url)\n",
    "        if response.status_code == 200:\n",
    "            image = Image.open(BytesIO(response.content))\n",
    "            resized_image= image_preprocessor(image)\n",
    "            file_name= f'{id}.jpg'\n",
    "            resized_image.save(f\"{output_path}/{file_name}\")"
   ]
  },
  {
   "cell_type": "code",
   "execution_count": 3,
   "id": "55969e00",
   "metadata": {},
   "outputs": [],
   "source": [
    "df = pd.read_json('moma_artworks.json')"
   ]
  },
  {
   "cell_type": "code",
   "execution_count": 4,
   "id": "b98f0954",
   "metadata": {},
   "outputs": [
    {
     "data": {
      "text/html": [
       "<div>\n",
       "<style scoped>\n",
       "    .dataframe tbody tr th:only-of-type {\n",
       "        vertical-align: middle;\n",
       "    }\n",
       "\n",
       "    .dataframe tbody tr th {\n",
       "        vertical-align: top;\n",
       "    }\n",
       "\n",
       "    .dataframe thead th {\n",
       "        text-align: right;\n",
       "    }\n",
       "</style>\n",
       "<table border=\"1\" class=\"dataframe\">\n",
       "  <thead>\n",
       "    <tr style=\"text-align: right;\">\n",
       "      <th></th>\n",
       "      <th>Title</th>\n",
       "      <th>Artist</th>\n",
       "      <th>ConstituentID</th>\n",
       "      <th>ArtistBio</th>\n",
       "      <th>Nationality</th>\n",
       "      <th>BeginDate</th>\n",
       "      <th>EndDate</th>\n",
       "      <th>Gender</th>\n",
       "      <th>Date</th>\n",
       "      <th>Medium</th>\n",
       "      <th>...</th>\n",
       "      <th>URL</th>\n",
       "      <th>ThumbnailURL</th>\n",
       "      <th>Height (cm)</th>\n",
       "      <th>Width (cm)</th>\n",
       "      <th>Depth (cm)</th>\n",
       "      <th>Weight (kg)</th>\n",
       "      <th>Diameter (cm)</th>\n",
       "      <th>Length (cm)</th>\n",
       "      <th>Circumference (cm)</th>\n",
       "      <th>Duration (sec.)</th>\n",
       "    </tr>\n",
       "  </thead>\n",
       "  <tbody>\n",
       "    <tr>\n",
       "      <th>0</th>\n",
       "      <td>Ferdinandsbrücke Project, Vienna, Austria (Ele...</td>\n",
       "      <td>[Otto Wagner]</td>\n",
       "      <td>[6210]</td>\n",
       "      <td>[Austrian, 1841–1918]</td>\n",
       "      <td>[Austrian]</td>\n",
       "      <td>[1841]</td>\n",
       "      <td>[1918]</td>\n",
       "      <td>[Male]</td>\n",
       "      <td>1896</td>\n",
       "      <td>Ink and cut-and-pasted painted pages on paper</td>\n",
       "      <td>...</td>\n",
       "      <td>http://www.moma.org/collection/works/2</td>\n",
       "      <td>http://www.moma.org/media/W1siZiIsIjUyNzc3MCJd...</td>\n",
       "      <td>48.6000</td>\n",
       "      <td>168.9000</td>\n",
       "      <td>NaN</td>\n",
       "      <td>NaN</td>\n",
       "      <td>NaN</td>\n",
       "      <td>NaN</td>\n",
       "      <td>NaN</td>\n",
       "      <td>NaN</td>\n",
       "    </tr>\n",
       "    <tr>\n",
       "      <th>1</th>\n",
       "      <td>City of Music, National Superior Conservatory ...</td>\n",
       "      <td>[Christian de Portzamparc]</td>\n",
       "      <td>[7470]</td>\n",
       "      <td>[French, born 1944]</td>\n",
       "      <td>[French]</td>\n",
       "      <td>[1944]</td>\n",
       "      <td>[0]</td>\n",
       "      <td>[Male]</td>\n",
       "      <td>1987</td>\n",
       "      <td>Paint and colored pencil on print</td>\n",
       "      <td>...</td>\n",
       "      <td>http://www.moma.org/collection/works/3</td>\n",
       "      <td>http://www.moma.org/media/W1siZiIsIjUyNzM3NCJd...</td>\n",
       "      <td>40.6401</td>\n",
       "      <td>29.8451</td>\n",
       "      <td>NaN</td>\n",
       "      <td>NaN</td>\n",
       "      <td>NaN</td>\n",
       "      <td>NaN</td>\n",
       "      <td>NaN</td>\n",
       "      <td>NaN</td>\n",
       "    </tr>\n",
       "    <tr>\n",
       "      <th>2</th>\n",
       "      <td>Villa near Vienna Project, Outside Vienna, Aus...</td>\n",
       "      <td>[Emil Hoppe]</td>\n",
       "      <td>[7605]</td>\n",
       "      <td>[Austrian, 1876–1957]</td>\n",
       "      <td>[Austrian]</td>\n",
       "      <td>[1876]</td>\n",
       "      <td>[1957]</td>\n",
       "      <td>[Male]</td>\n",
       "      <td>1903</td>\n",
       "      <td>Graphite, pen, color pencil, ink, and gouache ...</td>\n",
       "      <td>...</td>\n",
       "      <td>http://www.moma.org/collection/works/4</td>\n",
       "      <td>http://www.moma.org/media/W1siZiIsIjUyNzM3NSJd...</td>\n",
       "      <td>34.3000</td>\n",
       "      <td>31.8000</td>\n",
       "      <td>NaN</td>\n",
       "      <td>NaN</td>\n",
       "      <td>NaN</td>\n",
       "      <td>NaN</td>\n",
       "      <td>NaN</td>\n",
       "      <td>NaN</td>\n",
       "    </tr>\n",
       "    <tr>\n",
       "      <th>3</th>\n",
       "      <td>The Manhattan Transcripts Project, New York, N...</td>\n",
       "      <td>[Bernard Tschumi]</td>\n",
       "      <td>[7056]</td>\n",
       "      <td>[French and Swiss, born Switzerland 1944]</td>\n",
       "      <td>[]</td>\n",
       "      <td>[1944]</td>\n",
       "      <td>[0]</td>\n",
       "      <td>[Male]</td>\n",
       "      <td>1980</td>\n",
       "      <td>Photographic reproduction with colored synthet...</td>\n",
       "      <td>...</td>\n",
       "      <td>http://www.moma.org/collection/works/5</td>\n",
       "      <td>http://www.moma.org/media/W1siZiIsIjUyNzQ3NCJd...</td>\n",
       "      <td>50.8000</td>\n",
       "      <td>50.8000</td>\n",
       "      <td>NaN</td>\n",
       "      <td>NaN</td>\n",
       "      <td>NaN</td>\n",
       "      <td>NaN</td>\n",
       "      <td>NaN</td>\n",
       "      <td>NaN</td>\n",
       "    </tr>\n",
       "    <tr>\n",
       "      <th>4</th>\n",
       "      <td>Villa, project, outside Vienna, Austria, Exter...</td>\n",
       "      <td>[Emil Hoppe]</td>\n",
       "      <td>[7605]</td>\n",
       "      <td>[Austrian, 1876–1957]</td>\n",
       "      <td>[Austrian]</td>\n",
       "      <td>[1876]</td>\n",
       "      <td>[1957]</td>\n",
       "      <td>[Male]</td>\n",
       "      <td>1903</td>\n",
       "      <td>Graphite, color pencil, ink, and gouache on tr...</td>\n",
       "      <td>...</td>\n",
       "      <td>http://www.moma.org/collection/works/6</td>\n",
       "      <td>http://www.moma.org/media/W1siZiIsIjUyNzQ3NSJd...</td>\n",
       "      <td>38.4000</td>\n",
       "      <td>19.1000</td>\n",
       "      <td>NaN</td>\n",
       "      <td>NaN</td>\n",
       "      <td>NaN</td>\n",
       "      <td>NaN</td>\n",
       "      <td>NaN</td>\n",
       "      <td>NaN</td>\n",
       "    </tr>\n",
       "  </tbody>\n",
       "</table>\n",
       "<p>5 rows × 28 columns</p>\n",
       "</div>"
      ],
      "text/plain": [
       "                                               Title  \\\n",
       "0  Ferdinandsbrücke Project, Vienna, Austria (Ele...   \n",
       "1  City of Music, National Superior Conservatory ...   \n",
       "2  Villa near Vienna Project, Outside Vienna, Aus...   \n",
       "3  The Manhattan Transcripts Project, New York, N...   \n",
       "4  Villa, project, outside Vienna, Austria, Exter...   \n",
       "\n",
       "                       Artist ConstituentID  \\\n",
       "0               [Otto Wagner]        [6210]   \n",
       "1  [Christian de Portzamparc]        [7470]   \n",
       "2                [Emil Hoppe]        [7605]   \n",
       "3           [Bernard Tschumi]        [7056]   \n",
       "4                [Emil Hoppe]        [7605]   \n",
       "\n",
       "                                   ArtistBio Nationality BeginDate EndDate  \\\n",
       "0                      [Austrian, 1841–1918]  [Austrian]    [1841]  [1918]   \n",
       "1                        [French, born 1944]    [French]    [1944]     [0]   \n",
       "2                      [Austrian, 1876–1957]  [Austrian]    [1876]  [1957]   \n",
       "3  [French and Swiss, born Switzerland 1944]          []    [1944]     [0]   \n",
       "4                      [Austrian, 1876–1957]  [Austrian]    [1876]  [1957]   \n",
       "\n",
       "   Gender  Date                                             Medium  ...  \\\n",
       "0  [Male]  1896      Ink and cut-and-pasted painted pages on paper  ...   \n",
       "1  [Male]  1987                  Paint and colored pencil on print  ...   \n",
       "2  [Male]  1903  Graphite, pen, color pencil, ink, and gouache ...  ...   \n",
       "3  [Male]  1980  Photographic reproduction with colored synthet...  ...   \n",
       "4  [Male]  1903  Graphite, color pencil, ink, and gouache on tr...  ...   \n",
       "\n",
       "                                      URL  \\\n",
       "0  http://www.moma.org/collection/works/2   \n",
       "1  http://www.moma.org/collection/works/3   \n",
       "2  http://www.moma.org/collection/works/4   \n",
       "3  http://www.moma.org/collection/works/5   \n",
       "4  http://www.moma.org/collection/works/6   \n",
       "\n",
       "                                        ThumbnailURL Height (cm) Width (cm)  \\\n",
       "0  http://www.moma.org/media/W1siZiIsIjUyNzc3MCJd...     48.6000   168.9000   \n",
       "1  http://www.moma.org/media/W1siZiIsIjUyNzM3NCJd...     40.6401    29.8451   \n",
       "2  http://www.moma.org/media/W1siZiIsIjUyNzM3NSJd...     34.3000    31.8000   \n",
       "3  http://www.moma.org/media/W1siZiIsIjUyNzQ3NCJd...     50.8000    50.8000   \n",
       "4  http://www.moma.org/media/W1siZiIsIjUyNzQ3NSJd...     38.4000    19.1000   \n",
       "\n",
       "  Depth (cm) Weight (kg) Diameter (cm)  Length (cm) Circumference (cm)  \\\n",
       "0        NaN         NaN           NaN          NaN                NaN   \n",
       "1        NaN         NaN           NaN          NaN                NaN   \n",
       "2        NaN         NaN           NaN          NaN                NaN   \n",
       "3        NaN         NaN           NaN          NaN                NaN   \n",
       "4        NaN         NaN           NaN          NaN                NaN   \n",
       "\n",
       "  Duration (sec.)  \n",
       "0             NaN  \n",
       "1             NaN  \n",
       "2             NaN  \n",
       "3             NaN  \n",
       "4             NaN  \n",
       "\n",
       "[5 rows x 28 columns]"
      ]
     },
     "execution_count": 4,
     "metadata": {},
     "output_type": "execute_result"
    }
   ],
   "source": [
    "df.head()"
   ]
  },
  {
   "cell_type": "code",
   "execution_count": 13,
   "id": "dc5e3446",
   "metadata": {},
   "outputs": [
    {
     "data": {
      "text/plain": [
       "(140848, 28)"
      ]
     },
     "execution_count": 13,
     "metadata": {},
     "output_type": "execute_result"
    }
   ],
   "source": [
    "df.shape"
   ]
  },
  {
   "cell_type": "code",
   "execution_count": 14,
   "id": "4b63167c",
   "metadata": {},
   "outputs": [
    {
     "data": {
      "text/plain": [
       "Index(['Title', 'Artist', 'ConstituentID', 'ArtistBio', 'Nationality',\n",
       "       'BeginDate', 'EndDate', 'Gender', 'Date', 'Medium', 'Dimensions',\n",
       "       'CreditLine', 'AccessionNumber', 'Classification', 'Department',\n",
       "       'DateAcquired', 'Cataloged', 'ObjectID', 'URL', 'ThumbnailURL',\n",
       "       'Height (cm)', 'Width (cm)', 'Depth (cm)', 'Weight (kg)',\n",
       "       'Diameter (cm)', 'Length (cm)', 'Circumference (cm)',\n",
       "       'Duration (sec.)'],\n",
       "      dtype='object')"
      ]
     },
     "execution_count": 14,
     "metadata": {},
     "output_type": "execute_result"
    }
   ],
   "source": [
    "df.columns"
   ]
  },
  {
   "cell_type": "code",
   "execution_count": 21,
   "id": "f7a1e985",
   "metadata": {},
   "outputs": [
    {
     "data": {
      "text/plain": [
       "'http://www.moma.org/collection/works/2'"
      ]
     },
     "execution_count": 21,
     "metadata": {},
     "output_type": "execute_result"
    }
   ],
   "source": [
    "df.iloc[0, 18]"
   ]
  },
  {
   "cell_type": "markdown",
   "id": "4695ebd8",
   "metadata": {},
   "source": [
    "Trying to download images from MOMA the old way: "
   ]
  },
  {
   "cell_type": "code",
   "execution_count": 22,
   "id": "91dd17f7",
   "metadata": {},
   "outputs": [],
   "source": [
    "url= df.iloc[0, 18]\n",
    "response = requests.get(url)\n",
    "if response.status_code == 200:\n",
    "    image = Image.open(BytesIO(response.content))\n",
    "    #resized_image= image_preprocessor(image)\n",
    "    file_name='TEST.jpg'\n",
    "    image.save(file_name)\n",
    "    \n"
   ]
  },
  {
   "cell_type": "code",
   "execution_count": 32,
   "id": "d51738d1",
   "metadata": {},
   "outputs": [
    {
     "data": {
      "text/plain": [
       "<Response [403]>"
      ]
     },
     "execution_count": 32,
     "metadata": {},
     "output_type": "execute_result"
    }
   ],
   "source": [
    "url= df.iloc[0, 18]\n",
    "response = requests.get(url)\n",
    "response"
   ]
  },
  {
   "cell_type": "code",
   "execution_count": 37,
   "id": "4ccf7d74",
   "metadata": {},
   "outputs": [
    {
     "ename": "UnidentifiedImageError",
     "evalue": "cannot identify image file <_io.BytesIO object at 0x7f882a431c60>",
     "output_type": "error",
     "traceback": [
      "\u001b[0;31m---------------------------------------------------------------------------\u001b[0m",
      "\u001b[0;31mUnidentifiedImageError\u001b[0m                    Traceback (most recent call last)",
      "Cell \u001b[0;32mIn[37], line 8\u001b[0m\n\u001b[1;32m      5\u001b[0m     img_data \u001b[38;5;241m=\u001b[39m response\u001b[38;5;241m.\u001b[39mread()\n\u001b[1;32m      7\u001b[0m \u001b[38;5;66;03m# Open the image from the data and save it to a file\u001b[39;00m\n\u001b[0;32m----> 8\u001b[0m image \u001b[38;5;241m=\u001b[39m \u001b[43mImage\u001b[49m\u001b[38;5;241;43m.\u001b[39;49m\u001b[43mopen\u001b[49m\u001b[43m(\u001b[49m\u001b[43mBytesIO\u001b[49m\u001b[43m(\u001b[49m\u001b[43mimg_data\u001b[49m\u001b[43m)\u001b[49m\u001b[43m)\u001b[49m\n\u001b[1;32m      9\u001b[0m image\u001b[38;5;241m.\u001b[39msave(\u001b[38;5;124m'\u001b[39m\u001b[38;5;124mTEST.jpg\u001b[39m\u001b[38;5;124m'\u001b[39m)\n\u001b[1;32m     12\u001b[0m \u001b[38;5;66;03m#img_data = urllib.request.urlopen(response).read()\u001b[39;00m\n\u001b[1;32m     13\u001b[0m \u001b[38;5;66;03m#with open('TEST.jpg', 'wb') as f:\u001b[39;00m\n\u001b[1;32m     14\u001b[0m \u001b[38;5;66;03m#    f.write(img_data.content)\u001b[39;00m\n",
      "File \u001b[0;32m~/.pyenv/versions/3.10.6/envs/beating_heart_of_art/lib/python3.10/site-packages/PIL/Image.py:3283\u001b[0m, in \u001b[0;36mopen\u001b[0;34m(fp, mode, formats)\u001b[0m\n\u001b[1;32m   3281\u001b[0m     warnings\u001b[38;5;241m.\u001b[39mwarn(message)\n\u001b[1;32m   3282\u001b[0m msg \u001b[38;5;241m=\u001b[39m \u001b[38;5;124m\"\u001b[39m\u001b[38;5;124mcannot identify image file \u001b[39m\u001b[38;5;132;01m%r\u001b[39;00m\u001b[38;5;124m\"\u001b[39m \u001b[38;5;241m%\u001b[39m (filename \u001b[38;5;28;01mif\u001b[39;00m filename \u001b[38;5;28;01melse\u001b[39;00m fp)\n\u001b[0;32m-> 3283\u001b[0m \u001b[38;5;28;01mraise\u001b[39;00m UnidentifiedImageError(msg)\n",
      "\u001b[0;31mUnidentifiedImageError\u001b[0m: cannot identify image file <_io.BytesIO object at 0x7f882a431c60>"
     ]
    }
   ],
   "source": [
    "import urllib.request\n",
    "req = urllib.request.Request(url, headers={'User-Agent':'Mozilla/5.0 (Windows NT 10.0; Win64; x64) AppleWebKit/537.36 (KHTML, like Gecko) Chrome/58.0.3029.110 Safari/537.3'})\n",
    "\n",
    "with urllib.request.urlopen(req) as response:\n",
    "    img_data = response.read()\n",
    "\n",
    "# Open the image from the data and save it to a file\n",
    "image = Image.open(BytesIO(img_data))\n",
    "image.save('TEST.jpg')\n",
    "\n",
    "\n",
    "#img_data = urllib.request.urlopen(response).read()\n",
    "#with open('TEST.jpg', 'wb') as f:\n",
    "#    f.write(img_data.content)"
   ]
  }
 ],
 "metadata": {
  "kernelspec": {
   "display_name": "Python 3 (ipykernel)",
   "language": "python",
   "name": "python3"
  },
  "language_info": {
   "codemirror_mode": {
    "name": "ipython",
    "version": 3
   },
   "file_extension": ".py",
   "mimetype": "text/x-python",
   "name": "python",
   "nbconvert_exporter": "python",
   "pygments_lexer": "ipython3",
   "version": "3.10.6"
  },
  "toc": {
   "base_numbering": 1,
   "nav_menu": {},
   "number_sections": true,
   "sideBar": true,
   "skip_h1_title": false,
   "title_cell": "Table of Contents",
   "title_sidebar": "Contents",
   "toc_cell": false,
   "toc_position": {},
   "toc_section_display": true,
   "toc_window_display": false
  }
 },
 "nbformat": 4,
 "nbformat_minor": 5
}
